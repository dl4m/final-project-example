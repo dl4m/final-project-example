{
 "cells": [
  {
   "cell_type": "markdown",
   "id": "f1e74918-9059-4136-beda-16197052f50d",
   "metadata": {},
   "source": [
    "# Hot Dog Detection Demo"
   ]
  },
  {
   "cell_type": "code",
   "execution_count": null,
   "id": "0cbffda9-3a48-4754-a0bd-7345737318b9",
   "metadata": {},
   "outputs": [],
   "source": [
    "import numpy as np\n",
    "import matplotlib.pyplot as plt\n",
    "from PIL import Image"
   ]
  },
  {
   "cell_type": "markdown",
   "id": "a3021556-8ffb-4cbc-b70c-9e85e78cce24",
   "metadata": {},
   "source": [
    "### Load Model"
   ]
  },
  {
   "cell_type": "code",
   "execution_count": null,
   "id": "d9f9f21e-2ddf-45cc-9fd4-b6a2958cdb32",
   "metadata": {},
   "outputs": [],
   "source": [
    "model = ..."
   ]
  },
  {
   "cell_type": "markdown",
   "id": "9c3c7dde-fc53-4ff3-a124-625cb55e8b81",
   "metadata": {},
   "source": [
    "### Example 1: Hot Dog"
   ]
  },
  {
   "cell_type": "code",
   "execution_count": null,
   "id": "037eaa17-e2a8-4b4b-b68f-5391ccc11ab8",
   "metadata": {},
   "outputs": [],
   "source": [
    "img = Image.open(\"...\")"
   ]
  },
  {
   "cell_type": "markdown",
   "id": "5489176e-5c78-4f40-a301-70ec3a81a5a8",
   "metadata": {},
   "source": [
    "### Example 2: Not a Hot Dog"
   ]
  },
  {
   "cell_type": "code",
   "execution_count": null,
   "id": "ac57f69d-0898-42a2-beb4-131c94dadc14",
   "metadata": {},
   "outputs": [],
   "source": [
    "img = Image.open(\"...\")"
   ]
  }
 ],
 "metadata": {
  "kernelspec": {
   "display_name": "Python 3 (ipykernel)",
   "language": "python",
   "name": "python3"
  },
  "language_info": {
   "codemirror_mode": {
    "name": "ipython",
    "version": 3
   },
   "file_extension": ".py",
   "mimetype": "text/x-python",
   "name": "python",
   "nbconvert_exporter": "python",
   "pygments_lexer": "ipython3",
   "version": "3.11.7"
  }
 },
 "nbformat": 4,
 "nbformat_minor": 5
}
